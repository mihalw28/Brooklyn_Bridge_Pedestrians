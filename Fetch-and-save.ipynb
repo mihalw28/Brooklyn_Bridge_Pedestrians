{
 "cells": [
  {
   "cell_type": "code",
   "execution_count": null,
   "metadata": {},
   "outputs": [],
   "source": [
    "import pandas as pd\n",
    "import numpy as np\n",
    "import datetime\n",
    "from sodapy import Socrata\n",
    "import s3fs\n",
    "import os\n",
    "print(os.listdir(\"/home/jovyan/work\"))"
   ]
  },
  {
   "cell_type": "code",
   "execution_count": null,
   "metadata": {},
   "outputs": [],
   "source": [
    "# Need to install packages till docker image is standard jupyter/datascience-notebook from dockerhub \n",
    "#!pip install sodapy\n",
    "#!pip install s3fs"
   ]
  },
  {
   "cell_type": "code",
   "execution_count": null,
   "metadata": {},
   "outputs": [],
   "source": [
    "client = Socrata(\"data.cityofnewyork.us\", None)\n",
    "results = client.get(\"j25v-6efb\", limit=20000)\n",
    "df = pd.DataFrame.from_records(results)\n",
    "df[:5]"
   ]
  },
  {
   "cell_type": "code",
   "execution_count": null,
   "metadata": {
    "scrolled": false
   },
   "outputs": [],
   "source": [
    "df.info()"
   ]
  },
  {
   "cell_type": "code",
   "execution_count": null,
   "metadata": {},
   "outputs": [],
   "source": [
    "df = df[['hour_beginning', 'pedestrians', 'towards_manhattan', 'towards_brooklyn', 'weather_summary', 'temperature', 'precipitation', 'events']]"
   ]
  },
  {
   "cell_type": "code",
   "execution_count": null,
   "metadata": {},
   "outputs": [],
   "source": [
    "df = df.sort_values(by='hour_beginning').reset_index()\n",
    "df.drop(labels=['index'], axis=1, inplace=True)\n",
    "df[:5]"
   ]
  },
  {
   "cell_type": "code",
   "execution_count": null,
   "metadata": {},
   "outputs": [],
   "source": [
    "df['events'].fillna(0, inplace=True)"
   ]
  },
  {
   "cell_type": "code",
   "execution_count": null,
   "metadata": {},
   "outputs": [],
   "source": [
    "df.fillna(method='ffill', inplace=True)"
   ]
  },
  {
   "cell_type": "code",
   "execution_count": null,
   "metadata": {},
   "outputs": [],
   "source": [
    "df['hour_beginning'] = pd.to_datetime(df['hour_beginning'])\n",
    "df['hour_beginning'][:5]"
   ]
  },
  {
   "cell_type": "code",
   "execution_count": null,
   "metadata": {},
   "outputs": [],
   "source": [
    "# Write file with data frame directly to S3\n",
    "# key and secret possesion is needed\n",
    "bytes_to_write = df.to_csv(None).encode()\n",
    "fs = s3fs.S3FileSystem(key='FakeKey', secret='FakeSecretKey')\n",
    "with fs.open('s3://brooklyn-bridge-pedestrians/brooklyn_bridge_data.csv', 'wb') as f:\n",
    "    f.write(bytes_to_write)"
   ]
  }
 ],
 "metadata": {
  "kernelspec": {
   "display_name": "Python 3",
   "language": "python",
   "name": "python3"
  },
  "language_info": {
   "codemirror_mode": {
    "name": "ipython",
    "version": 3
   },
   "file_extension": ".py",
   "mimetype": "text/x-python",
   "name": "python",
   "nbconvert_exporter": "python",
   "pygments_lexer": "ipython3",
   "version": "3.6.6"
  }
 },
 "nbformat": 4,
 "nbformat_minor": 2
}
